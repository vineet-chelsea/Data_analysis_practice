{
  "nbformat": 4,
  "nbformat_minor": 0,
  "metadata": {
    "colab": {
      "name": "Delhi Weather from Gov.India",
      "provenance": []
    },
    "kernelspec": {
      "name": "python3",
      "display_name": "Python 3"
    }
  },
  "cells": [
    {
      "cell_type": "code",
      "metadata": {
        "id": "clO44G4_E_nH",
        "colab_type": "code",
        "colab": {}
      },
      "source": [
        "import requests\n",
        "import pandas as pd\n",
        "from bs4 import BeautifulSoup"
      ],
      "execution_count": 0,
      "outputs": []
    },
    {
      "cell_type": "code",
      "metadata": {
        "id": "Uyxc-nw0FEFc",
        "colab_type": "code",
        "colab": {}
      },
      "source": [
        "page = requests.get(\"https://mausam.imd.gov.in/imd_latest/contents/current_weather.php\")"
      ],
      "execution_count": 0,
      "outputs": []
    },
    {
      "cell_type": "code",
      "metadata": {
        "id": "0rVRyY-XFIXQ",
        "colab_type": "code",
        "colab": {}
      },
      "source": [
        "soup = BeautifulSoup(page.text,'html.parser')"
      ],
      "execution_count": 0,
      "outputs": []
    },
    {
      "cell_type": "code",
      "metadata": {
        "id": "e_NyOfGbJdIz",
        "colab_type": "code",
        "colab": {}
      },
      "source": [
        "results = soup.find_all('td')"
      ],
      "execution_count": 0,
      "outputs": []
    },
    {
      "cell_type": "code",
      "metadata": {
        "id": "iDADyghCJu_Z",
        "colab_type": "code",
        "colab": {}
      },
      "source": [
        "records = []\n",
        "for i in range(0,len(results)//4):\n",
        "  date = results[4*i].contents[0]\n",
        "  temp = results[4*i+1].text\n",
        "  var = temp.find('|')\n",
        "  low_temp = temp[0:var-3]\n",
        "  high_temp = temp[var+2:-2]\n",
        "  description = results[4*i+3].text\n",
        "  records.append((date,low_temp,high_temp,description))"
      ],
      "execution_count": 0,
      "outputs": []
    },
    {
      "cell_type": "code",
      "metadata": {
        "id": "Ix98wMLjLVcc",
        "colab_type": "code",
        "colab": {}
      },
      "source": [
        "Weather = pd.DataFrame(records,columns = ['Date','Low_Temp','High_Temp','Description'])"
      ],
      "execution_count": 0,
      "outputs": []
    },
    {
      "cell_type": "code",
      "metadata": {
        "id": "Z42ERFhtMJDW",
        "colab_type": "code",
        "colab": {}
      },
      "source": [
        "Weather.High_Temp = Weather.High_Temp.astype(float)"
      ],
      "execution_count": 0,
      "outputs": []
    },
    {
      "cell_type": "code",
      "metadata": {
        "id": "WY86meXqModI",
        "colab_type": "code",
        "colab": {}
      },
      "source": [
        "Weather.Low_Temp = Weather.Low_Temp.astype(float)"
      ],
      "execution_count": 0,
      "outputs": []
    },
    {
      "cell_type": "code",
      "metadata": {
        "id": "5ywczh1KMs5N",
        "colab_type": "code",
        "colab": {}
      },
      "source": [
        "Weather.Date = Weather.Date + ', 2020'"
      ],
      "execution_count": 0,
      "outputs": []
    },
    {
      "cell_type": "code",
      "metadata": {
        "id": "2esMKVfxNXDR",
        "colab_type": "code",
        "colab": {}
      },
      "source": [
        "Weather.Date = pd.to_datetime(Weather.Date)"
      ],
      "execution_count": 0,
      "outputs": []
    },
    {
      "cell_type": "code",
      "metadata": {
        "id": "GtzSa4PUNdnE",
        "colab_type": "code",
        "colab": {
          "base_uri": "https://localhost:8080/",
          "height": 195
        },
        "outputId": "6bc50434-d7a6-41d8-f2ac-d52534c7b5d5"
      },
      "source": [
        "Weather.head()"
      ],
      "execution_count": 173,
      "outputs": [
        {
          "output_type": "execute_result",
          "data": {
            "text/html": [
              "<div>\n",
              "<style scoped>\n",
              "    .dataframe tbody tr th:only-of-type {\n",
              "        vertical-align: middle;\n",
              "    }\n",
              "\n",
              "    .dataframe tbody tr th {\n",
              "        vertical-align: top;\n",
              "    }\n",
              "\n",
              "    .dataframe thead th {\n",
              "        text-align: right;\n",
              "    }\n",
              "</style>\n",
              "<table border=\"1\" class=\"dataframe\">\n",
              "  <thead>\n",
              "    <tr style=\"text-align: right;\">\n",
              "      <th></th>\n",
              "      <th>Date</th>\n",
              "      <th>Low_Temp</th>\n",
              "      <th>High_Temp</th>\n",
              "      <th>Description</th>\n",
              "    </tr>\n",
              "  </thead>\n",
              "  <tbody>\n",
              "    <tr>\n",
              "      <th>0</th>\n",
              "      <td>2020-04-17</td>\n",
              "      <td>26.1</td>\n",
              "      <td>39.2</td>\n",
              "      <td>Generally cloudy sky with Light rain</td>\n",
              "    </tr>\n",
              "    <tr>\n",
              "      <th>1</th>\n",
              "      <td>2020-04-18</td>\n",
              "      <td>23.0</td>\n",
              "      <td>40.0</td>\n",
              "      <td>Partly cloudy sky with possibility of developm...</td>\n",
              "    </tr>\n",
              "    <tr>\n",
              "      <th>2</th>\n",
              "      <td>2020-04-19</td>\n",
              "      <td>23.0</td>\n",
              "      <td>39.0</td>\n",
              "      <td>Partly cloudy sky with possibility of developm...</td>\n",
              "    </tr>\n",
              "    <tr>\n",
              "      <th>3</th>\n",
              "      <td>2020-04-20</td>\n",
              "      <td>22.0</td>\n",
              "      <td>39.0</td>\n",
              "      <td>Generally cloudy sky with Light Rain or Drizzle</td>\n",
              "    </tr>\n",
              "    <tr>\n",
              "      <th>4</th>\n",
              "      <td>2020-04-21</td>\n",
              "      <td>23.0</td>\n",
              "      <td>38.0</td>\n",
              "      <td>Generally cloudy sky with Light rain</td>\n",
              "    </tr>\n",
              "  </tbody>\n",
              "</table>\n",
              "</div>"
            ],
            "text/plain": [
              "        Date  ...                                        Description\n",
              "0 2020-04-17  ...               Generally cloudy sky with Light rain\n",
              "1 2020-04-18  ...  Partly cloudy sky with possibility of developm...\n",
              "2 2020-04-19  ...  Partly cloudy sky with possibility of developm...\n",
              "3 2020-04-20  ...    Generally cloudy sky with Light Rain or Drizzle\n",
              "4 2020-04-21  ...               Generally cloudy sky with Light rain\n",
              "\n",
              "[5 rows x 4 columns]"
            ]
          },
          "metadata": {
            "tags": []
          },
          "execution_count": 173
        }
      ]
    }
  ]
}